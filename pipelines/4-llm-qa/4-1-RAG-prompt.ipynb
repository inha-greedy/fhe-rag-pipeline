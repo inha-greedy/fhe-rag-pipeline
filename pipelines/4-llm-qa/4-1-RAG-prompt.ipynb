{
 "cells": [
  {
   "cell_type": "code",
   "execution_count": 5,
   "metadata": {},
   "outputs": [
    {
     "data": {
      "text/plain": [
       "'\\n[ SYSTEM ]\\n너는 Human을 도와주는 친절한 AI 비서야. Human의 질문을 해결하는 유용한 대답을 만들어줘.\\n답변의 출처로 3 backticks로 감싼 정보를 사용하도록 해. 정보는 다음과 같아.\\n```\\n{context}\\n```\\n\\n[ Human ]\\n{question}\\n\\n[ AI 비서 ]\\n'"
      ]
     },
     "execution_count": 5,
     "metadata": {},
     "output_type": "execute_result"
    }
   ],
   "source": [
    "RAG_PROMPT = \"\"\"\n",
    "[ SYSTEM ]\n",
    "너는 Human을 도와주는 친절한 AI 비서야. Human의 질문을 해결하는 유용한 대답을 만들어줘.\n",
    "답변의 출처로 3 backticks로 감싼 정보를 사용하도록 해. 정보는 다음과 같아.\n",
    "```\n",
    "{context}\n",
    "```\n",
    "\n",
    "[ Human ]\n",
    "{question}\n",
    "\n",
    "[ AI 비서 ]\n",
    "\"\"\"\n",
    "\n",
    "RAG_PROMPT"
   ]
  },
  {
   "cell_type": "code",
   "execution_count": 6,
   "metadata": {},
   "outputs": [
    {
     "data": {
      "text/plain": [
       "'\\n[ SYSTEM ]\\n너는 Human을 도와주는 친절한 AI 비서야. Human의 질문을 해결하는 유용한 대답을 만들어줘.\\n답변의 출처로 3 backticks로 감싼 정보를 사용하도록 해. 정보는 다음과 같아.\\n```\\n[ 멜론 실시간 음원 Top 100 ]\\n1위. 밤양갱 - 비비\\n4위. Love wins all - 아이유\\n5위. Want you back - 세븐어스\\n```\\n\\n[ Human ]\\n멜론 1위 노래는 뭐야?\\n\\n[ AI 비서 ]\\n'"
      ]
     },
     "execution_count": 6,
     "metadata": {},
     "output_type": "execute_result"
    }
   ],
   "source": [
    "question = \"멜론 1위 노래는 뭐야?\"\n",
    "\n",
    "context = \"\"\"[ 멜론 실시간 음원 Top 100 ]\n",
    "1위. 밤양갱 - 비비\n",
    "4위. Love wins all - 아이유\n",
    "5위. Want you back - 세븐어스\"\"\"\n",
    "\n",
    "formatted_prompt = RAG_PROMPT.format(context=context, question=question)\n",
    "\n",
    "\n",
    "formatted_prompt"
   ]
  }
 ],
 "metadata": {
  "kernelspec": {
   "display_name": "Python 3",
   "language": "python",
   "name": "python3"
  },
  "language_info": {
   "codemirror_mode": {
    "name": "ipython",
    "version": 3
   },
   "file_extension": ".py",
   "mimetype": "text/x-python",
   "name": "python",
   "nbconvert_exporter": "python",
   "pygments_lexer": "ipython3",
   "version": "3.11.5"
  }
 },
 "nbformat": 4,
 "nbformat_minor": 2
}
