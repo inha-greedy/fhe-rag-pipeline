{
 "cells": [
  {
   "cell_type": "code",
   "execution_count": 2,
   "metadata": {},
   "outputs": [
    {
     "name": "stdout",
     "output_type": "stream",
     "text": [
      "Requirement already satisfied: requests in /Library/Frameworks/Python.framework/Versions/3.11/lib/python3.11/site-packages (2.31.0)\n",
      "Requirement already satisfied: python-dotenv in /Library/Frameworks/Python.framework/Versions/3.11/lib/python3.11/site-packages (1.0.0)\n",
      "Requirement already satisfied: charset-normalizer<4,>=2 in /Library/Frameworks/Python.framework/Versions/3.11/lib/python3.11/site-packages (from requests) (3.3.2)\n",
      "Requirement already satisfied: idna<4,>=2.5 in /Library/Frameworks/Python.framework/Versions/3.11/lib/python3.11/site-packages (from requests) (3.4)\n",
      "Requirement already satisfied: urllib3<3,>=1.21.1 in /Library/Frameworks/Python.framework/Versions/3.11/lib/python3.11/site-packages (from requests) (1.26.18)\n",
      "Requirement already satisfied: certifi>=2017.4.17 in /Library/Frameworks/Python.framework/Versions/3.11/lib/python3.11/site-packages (from requests) (2023.7.22)\n",
      "\n",
      "\u001b[1m[\u001b[0m\u001b[34;49mnotice\u001b[0m\u001b[1;39;49m]\u001b[0m\u001b[39;49m A new release of pip is available: \u001b[0m\u001b[31;49m23.3.1\u001b[0m\u001b[39;49m -> \u001b[0m\u001b[32;49m24.0\u001b[0m\n",
      "\u001b[1m[\u001b[0m\u001b[34;49mnotice\u001b[0m\u001b[1;39;49m]\u001b[0m\u001b[39;49m To update, run: \u001b[0m\u001b[32;49mpip3 install --upgrade pip\u001b[0m\n",
      "Note: you may need to restart the kernel to use updated packages.\n"
     ]
    }
   ],
   "source": [
    "%pip install requests python-dotenv"
   ]
  },
  {
   "cell_type": "code",
   "execution_count": 40,
   "metadata": {},
   "outputs": [
    {
     "data": {
      "text/plain": [
       "'<<SYS>>\\n너는 Human을 도와주는 친절한 AI 비서야. Human의 질문을 해결하는 유용한 대답을 단답형으로 생성해 줘.\\n답변의 출처로 3 backticks로 감싼 정보를 사용할 수 있어. \\n정보는 다음과 같아.\\n```\\n[ 멜론 실시간 음원 Top 100 ]\\n1위. 밤양갱 - 비비\\n4위. Love wins all - 아이유\\n5위. Want you back - 세븐어스\\n```\\n<</SYS>>\\n\\n[INST]\\nHuman: 멜론 1위 노래는 뭐야?\\n[/INST]\\nAI 비서: \\n'"
      ]
     },
     "execution_count": 40,
     "metadata": {},
     "output_type": "execute_result"
    }
   ],
   "source": [
    "# llama2 style prompt\n",
    "RAG_PROMPT = \"\"\"<<SYS>>\n",
    "너는 Human을 도와주는 친절한 AI 비서야. Human의 질문을 해결하는 유용한 대답을 단답형으로 생성해 줘.\n",
    "답변의 출처로 3 backticks로 감싼 정보를 사용할 수 있어. \n",
    "정보는 다음과 같아.\n",
    "```\n",
    "{context}\n",
    "```\n",
    "<</SYS>>\n",
    "\n",
    "[INST]\n",
    "Human: {question}\n",
    "[/INST]\n",
    "AI 비서: \n",
    "\"\"\"\n",
    "\n",
    "question = \"멜론 1위 노래는 뭐야?\"\n",
    "\n",
    "context = \"\"\"[ 멜론 실시간 음원 Top 100 ]\n",
    "1위. 밤양갱 - 비비\n",
    "4위. Love wins all - 아이유\n",
    "5위. Want you back - 세븐어스\"\"\"\n",
    "\n",
    "formatted_prompt = RAG_PROMPT.format(context=context, question=question)\n",
    "\n",
    "\n",
    "formatted_prompt"
   ]
  },
  {
   "cell_type": "code",
   "execution_count": 47,
   "metadata": {},
   "outputs": [],
   "source": [
    "import os\n",
    "import requests\n",
    "from dotenv import load_dotenv\n",
    "\n",
    "# .env 설정해주세요 (.env.example 참고)\n",
    "load_dotenv()\n",
    "\n",
    "# OpenAI의 인터페이스를 따라하는 LLM 서버에 요청을 보냄\n",
    "openai_api_base = os.getenv(\"OPENAI_API_BASE\")\n",
    "\n",
    "# 165.246.x.x:10103/v1/completions\n",
    "url = openai_api_base + \"/v1/completions\"\n",
    "\n",
    "model = \"text-davinci-003\"\n",
    "prompt = formatted_prompt\n",
    "max_tokens = 200\n",
    "temperature = 0.1\n",
    "stop_sequences = [\"[INST]\"]"
   ]
  },
  {
   "cell_type": "code",
   "execution_count": 53,
   "metadata": {},
   "outputs": [
    {
     "data": {
      "text/plain": [
       "{'id': 'cmpl-3oCPZAQU4nqAmfuBFENmcc',\n",
       " 'object': 'text_completion',\n",
       " 'created': 1714720877,\n",
       " 'model': 'text-davinci-003',\n",
       " 'choices': [{'index': 0,\n",
       "   'text': '멜론 실시간 음원 Top 100에서 1위는 밤양갱 - 비비입니다.',\n",
       "   'logprobs': None,\n",
       "   'finish_reason': 'stop'}],\n",
       " 'usage': {'prompt_tokens': 276, 'total_tokens': 324, 'completion_tokens': 48}}"
      ]
     },
     "execution_count": 53,
     "metadata": {},
     "output_type": "execute_result"
    }
   ],
   "source": [
    "\n",
    "headers = {\n",
    "    \"Content-Type\": \"application/json\"\n",
    "}\n",
    "\n",
    "data = {\n",
    "    \"model\": model,\n",
    "    \"prompt\": formatted_prompt,\n",
    "    \"max_tokens\": max_tokens,\n",
    "    \"temperature\": temperature,\n",
    "    \"stop\": stop_sequences,\n",
    "}\n",
    "\n",
    "response = requests.post(url=url, headers=headers, json=data)\n",
    "\n",
    "result = response.json()\n",
    "\n",
    "result"
   ]
  },
  {
   "cell_type": "code",
   "execution_count": 54,
   "metadata": {},
   "outputs": [
    {
     "data": {
      "text/plain": [
       "'멜론 실시간 음원 Top 100에서 1위는 밤양갱 - 비비입니다.'"
      ]
     },
     "execution_count": 54,
     "metadata": {},
     "output_type": "execute_result"
    }
   ],
   "source": [
    "output_text = result['choices'][0]['text']\n",
    "output_text"
   ]
  }
 ],
 "metadata": {
  "kernelspec": {
   "display_name": "Python 3",
   "language": "python",
   "name": "python3"
  },
  "language_info": {
   "codemirror_mode": {
    "name": "ipython",
    "version": 3
   },
   "file_extension": ".py",
   "mimetype": "text/x-python",
   "name": "python",
   "nbconvert_exporter": "python",
   "pygments_lexer": "ipython3",
   "version": "3.11.5"
  }
 },
 "nbformat": 4,
 "nbformat_minor": 2
}
