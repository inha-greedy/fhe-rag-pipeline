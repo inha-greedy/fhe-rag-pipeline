{
 "cells": [
  {
   "cell_type": "code",
   "execution_count": 2,
   "metadata": {},
   "outputs": [],
   "source": [
    "from transformers import BertTokenizer, BertModel\n",
    "import torch.nn.functional as F"
   ]
  },
  {
   "cell_type": "code",
   "execution_count": 3,
   "metadata": {},
   "outputs": [],
   "source": [
    "tokenizer = BertTokenizer.from_pretrained('bert-base-uncased')\n",
    "model = BertModel.from_pretrained('bert-base-uncased')"
   ]
  },
  {
   "cell_type": "code",
   "execution_count": 4,
   "metadata": {},
   "outputs": [],
   "source": [
    "sent1 = \"shorter\"\n",
    "sent2 = \"longer\""
   ]
  },
  {
   "cell_type": "code",
   "execution_count": 5,
   "metadata": {},
   "outputs": [],
   "source": [
    "encoded1 = tokenizer.encode_plus(sent1, return_tensors='pt')\n",
    "encoded2 = tokenizer.encode_plus(sent2, return_tensors='pt')\n",
    "\n",
    "output1 = model(**encoded1)\n",
    "output2 = model(**encoded2)\n",
    "\n",
    "sent_embed1 = output1.last_hidden_state.mean(dim=1)  \n",
    "sent_embed2 = output2.last_hidden_state.mean(dim=1)"
   ]
  },
  {
   "cell_type": "code",
   "execution_count": 6,
   "metadata": {},
   "outputs": [
    {
     "name": "stdout",
     "output_type": "stream",
     "text": [
      "Sentence 1: shorter\n",
      "Sentence 2: longer\n",
      "Cosine similarity: 0.910\n"
     ]
    }
   ],
   "source": [
    "cos_sim = F.cosine_similarity(sent_embed1, sent_embed2)\n",
    "\n",
    "print(f'Sentence 1: {sent1}')\n",
    "print(f'Sentence 2: {sent2}')\n",
    "print(f'Cosine similarity: {cos_sim.item():.3f}')"
   ]
  }
 ],
 "metadata": {
  "kernelspec": {
   "display_name": "bert",
   "language": "python",
   "name": "python3"
  },
  "language_info": {
   "codemirror_mode": {
    "name": "ipython",
    "version": 3
   },
   "file_extension": ".py",
   "mimetype": "text/x-python",
   "name": "python",
   "nbconvert_exporter": "python",
   "pygments_lexer": "ipython3",
   "version": "3.8.19"
  }
 },
 "nbformat": 4,
 "nbformat_minor": 2
}
